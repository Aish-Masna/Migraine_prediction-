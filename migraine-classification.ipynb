{
 "cells": [
  {
   "cell_type": "code",
   "execution_count": 2,
   "id": "29c6ef0d",
   "metadata": {
    "execution": {
     "iopub.execute_input": "2022-07-16T20:10:58.610337Z",
     "iopub.status.busy": "2022-07-16T20:10:58.609739Z",
     "iopub.status.idle": "2022-07-16T20:11:00.281228Z",
     "shell.execute_reply": "2022-07-16T20:11:00.280149Z"
    },
    "id": "GG_l4DitEU9N",
    "papermill": {
     "duration": 1.688781,
     "end_time": "2022-07-16T20:11:00.284016",
     "exception": false,
     "start_time": "2022-07-16T20:10:58.595235",
     "status": "completed"
    },
    "tags": []
   },
   "outputs": [],
   "source": [
    "import pandas as pd\n",
    "import numpy as np\n",
    "from sklearn.model_selection import train_test_split\n",
    "from sklearn.metrics import r2_score\n",
    "from sklearn.ensemble import RandomForestClassifier\n",
    "from sklearn.neighbors import KNeighborsClassifier\n",
    "\n",
    "from sklearn.tree import DecisionTreeClassifier\n",
    "import math\n",
    "from sklearn.neural_network import MLPClassifier\n",
    "from sklearn.metrics import accuracy_score\n",
    "import matplotlib.pyplot as plt\n",
    "import seaborn as sns\n",
    "from sklearn.neighbors import KNeighborsClassifier\n",
    "from sklearn.preprocessing import StandardScaler\n",
    "from sklearn.model_selection import GridSearchCV\n"
   ]
  },
  {
   "cell_type": "code",
   "execution_count": 4,
   "id": "33497a7d",
   "metadata": {
    "execution": {
     "iopub.execute_input": "2022-07-16T20:11:00.306220Z",
     "iopub.status.busy": "2022-07-16T20:11:00.305531Z",
     "iopub.status.idle": "2022-07-16T20:11:00.323057Z",
     "shell.execute_reply": "2022-07-16T20:11:00.322051Z"
    },
    "id": "BGZd3qYOFQSK",
    "papermill": {
     "duration": 0.031379,
     "end_time": "2022-07-16T20:11:00.325479",
     "exception": false,
     "start_time": "2022-07-16T20:11:00.294100",
     "status": "completed"
    },
    "tags": []
   },
   "outputs": [
    {
     "data": {
      "text/html": [
       "<div>\n",
       "<style scoped>\n",
       "    .dataframe tbody tr th:only-of-type {\n",
       "        vertical-align: middle;\n",
       "    }\n",
       "\n",
       "    .dataframe tbody tr th {\n",
       "        vertical-align: top;\n",
       "    }\n",
       "\n",
       "    .dataframe thead th {\n",
       "        text-align: right;\n",
       "    }\n",
       "</style>\n",
       "<table border=\"1\" class=\"dataframe\">\n",
       "  <thead>\n",
       "    <tr style=\"text-align: right;\">\n",
       "      <th></th>\n",
       "      <th>Age</th>\n",
       "      <th>Duration</th>\n",
       "      <th>Frequency</th>\n",
       "      <th>Location</th>\n",
       "      <th>Character</th>\n",
       "      <th>Intensity</th>\n",
       "      <th>Nausea</th>\n",
       "      <th>Vomit</th>\n",
       "      <th>Phonophobia</th>\n",
       "      <th>Photophobia</th>\n",
       "      <th>...</th>\n",
       "      <th>Vertigo</th>\n",
       "      <th>Tinnitus</th>\n",
       "      <th>Hypoacusis</th>\n",
       "      <th>Diplopia</th>\n",
       "      <th>Defect</th>\n",
       "      <th>Ataxia</th>\n",
       "      <th>Conscience</th>\n",
       "      <th>Paresthesia</th>\n",
       "      <th>DPF</th>\n",
       "      <th>Type</th>\n",
       "    </tr>\n",
       "  </thead>\n",
       "  <tbody>\n",
       "    <tr>\n",
       "      <th>0</th>\n",
       "      <td>30</td>\n",
       "      <td>1</td>\n",
       "      <td>5</td>\n",
       "      <td>1</td>\n",
       "      <td>1</td>\n",
       "      <td>2</td>\n",
       "      <td>1</td>\n",
       "      <td>0</td>\n",
       "      <td>1</td>\n",
       "      <td>1</td>\n",
       "      <td>...</td>\n",
       "      <td>0</td>\n",
       "      <td>0</td>\n",
       "      <td>0</td>\n",
       "      <td>0</td>\n",
       "      <td>0</td>\n",
       "      <td>0</td>\n",
       "      <td>0</td>\n",
       "      <td>0</td>\n",
       "      <td>0</td>\n",
       "      <td>Typical aura with migraine</td>\n",
       "    </tr>\n",
       "    <tr>\n",
       "      <th>1</th>\n",
       "      <td>50</td>\n",
       "      <td>3</td>\n",
       "      <td>5</td>\n",
       "      <td>1</td>\n",
       "      <td>1</td>\n",
       "      <td>3</td>\n",
       "      <td>1</td>\n",
       "      <td>1</td>\n",
       "      <td>1</td>\n",
       "      <td>1</td>\n",
       "      <td>...</td>\n",
       "      <td>1</td>\n",
       "      <td>0</td>\n",
       "      <td>0</td>\n",
       "      <td>0</td>\n",
       "      <td>0</td>\n",
       "      <td>0</td>\n",
       "      <td>0</td>\n",
       "      <td>0</td>\n",
       "      <td>0</td>\n",
       "      <td>Typical aura with migraine</td>\n",
       "    </tr>\n",
       "    <tr>\n",
       "      <th>2</th>\n",
       "      <td>53</td>\n",
       "      <td>2</td>\n",
       "      <td>1</td>\n",
       "      <td>1</td>\n",
       "      <td>1</td>\n",
       "      <td>2</td>\n",
       "      <td>1</td>\n",
       "      <td>1</td>\n",
       "      <td>1</td>\n",
       "      <td>1</td>\n",
       "      <td>...</td>\n",
       "      <td>0</td>\n",
       "      <td>0</td>\n",
       "      <td>0</td>\n",
       "      <td>0</td>\n",
       "      <td>0</td>\n",
       "      <td>0</td>\n",
       "      <td>0</td>\n",
       "      <td>0</td>\n",
       "      <td>0</td>\n",
       "      <td>Typical aura with migraine</td>\n",
       "    </tr>\n",
       "    <tr>\n",
       "      <th>3</th>\n",
       "      <td>45</td>\n",
       "      <td>3</td>\n",
       "      <td>5</td>\n",
       "      <td>1</td>\n",
       "      <td>1</td>\n",
       "      <td>3</td>\n",
       "      <td>1</td>\n",
       "      <td>0</td>\n",
       "      <td>1</td>\n",
       "      <td>1</td>\n",
       "      <td>...</td>\n",
       "      <td>1</td>\n",
       "      <td>0</td>\n",
       "      <td>0</td>\n",
       "      <td>0</td>\n",
       "      <td>0</td>\n",
       "      <td>0</td>\n",
       "      <td>0</td>\n",
       "      <td>0</td>\n",
       "      <td>0</td>\n",
       "      <td>Typical aura with migraine</td>\n",
       "    </tr>\n",
       "    <tr>\n",
       "      <th>4</th>\n",
       "      <td>53</td>\n",
       "      <td>1</td>\n",
       "      <td>1</td>\n",
       "      <td>1</td>\n",
       "      <td>1</td>\n",
       "      <td>2</td>\n",
       "      <td>1</td>\n",
       "      <td>0</td>\n",
       "      <td>1</td>\n",
       "      <td>1</td>\n",
       "      <td>...</td>\n",
       "      <td>0</td>\n",
       "      <td>0</td>\n",
       "      <td>0</td>\n",
       "      <td>0</td>\n",
       "      <td>0</td>\n",
       "      <td>0</td>\n",
       "      <td>0</td>\n",
       "      <td>0</td>\n",
       "      <td>1</td>\n",
       "      <td>Typical aura with migraine</td>\n",
       "    </tr>\n",
       "  </tbody>\n",
       "</table>\n",
       "<p>5 rows × 24 columns</p>\n",
       "</div>"
      ],
      "text/plain": [
       "   Age  Duration  Frequency  Location  Character  Intensity  Nausea  Vomit  \\\n",
       "0   30         1          5         1          1          2       1      0   \n",
       "1   50         3          5         1          1          3       1      1   \n",
       "2   53         2          1         1          1          2       1      1   \n",
       "3   45         3          5         1          1          3       1      0   \n",
       "4   53         1          1         1          1          2       1      0   \n",
       "\n",
       "   Phonophobia  Photophobia  ...  Vertigo  Tinnitus  Hypoacusis  Diplopia  \\\n",
       "0            1            1  ...        0         0           0         0   \n",
       "1            1            1  ...        1         0           0         0   \n",
       "2            1            1  ...        0         0           0         0   \n",
       "3            1            1  ...        1         0           0         0   \n",
       "4            1            1  ...        0         0           0         0   \n",
       "\n",
       "   Defect  Ataxia  Conscience  Paresthesia  DPF                        Type  \n",
       "0       0       0           0            0    0  Typical aura with migraine  \n",
       "1       0       0           0            0    0  Typical aura with migraine  \n",
       "2       0       0           0            0    0  Typical aura with migraine  \n",
       "3       0       0           0            0    0  Typical aura with migraine  \n",
       "4       0       0           0            0    1  Typical aura with migraine  \n",
       "\n",
       "[5 rows x 24 columns]"
      ]
     },
     "execution_count": 4,
     "metadata": {},
     "output_type": "execute_result"
    }
   ],
   "source": [
    "df=pd.read_csv(r'C:\\Users\\aishw\\Downloads\\rbl\\data.csv')\n",
    "df.head()"
   ]
  },
  {
   "cell_type": "markdown",
   "id": "8f9404d4",
   "metadata": {
    "id": "WpXiVo7fH-gU",
    "papermill": {
     "duration": 0.009802,
     "end_time": "2022-07-16T20:11:00.345728",
     "exception": false,
     "start_time": "2022-07-16T20:11:00.335926",
     "status": "completed"
    },
    "tags": []
   },
   "source": [
    "# **discovering data**"
   ]
  },
  {
   "cell_type": "code",
   "execution_count": 5,
   "id": "d2295341",
   "metadata": {
    "execution": {
     "iopub.execute_input": "2022-07-16T20:11:00.426846Z",
     "iopub.status.busy": "2022-07-16T20:11:00.426445Z",
     "iopub.status.idle": "2022-07-16T20:11:00.454200Z",
     "shell.execute_reply": "2022-07-16T20:11:00.452353Z"
    },
    "id": "tIQAYAs_FlPN",
    "outputId": "805e79ec-d5b3-4f3e-fe3c-7f318502ebe1",
    "papermill": {
     "duration": 0.041999,
     "end_time": "2022-07-16T20:11:00.456975",
     "exception": false,
     "start_time": "2022-07-16T20:11:00.414976",
     "status": "completed"
    },
    "tags": []
   },
   "outputs": [
    {
     "name": "stdout",
     "output_type": "stream",
     "text": [
      "<class 'pandas.core.frame.DataFrame'>\n",
      "RangeIndex: 400 entries, 0 to 399\n",
      "Data columns (total 24 columns):\n",
      " #   Column       Non-Null Count  Dtype \n",
      "---  ------       --------------  ----- \n",
      " 0   Age          400 non-null    int64 \n",
      " 1   Duration     400 non-null    int64 \n",
      " 2   Frequency    400 non-null    int64 \n",
      " 3   Location     400 non-null    int64 \n",
      " 4   Character    400 non-null    int64 \n",
      " 5   Intensity    400 non-null    int64 \n",
      " 6   Nausea       400 non-null    int64 \n",
      " 7   Vomit        400 non-null    int64 \n",
      " 8   Phonophobia  400 non-null    int64 \n",
      " 9   Photophobia  400 non-null    int64 \n",
      " 10  Visual       400 non-null    int64 \n",
      " 11  Sensory      400 non-null    int64 \n",
      " 12  Dysphasia    400 non-null    int64 \n",
      " 13  Dysarthria   400 non-null    int64 \n",
      " 14  Vertigo      400 non-null    int64 \n",
      " 15  Tinnitus     400 non-null    int64 \n",
      " 16  Hypoacusis   400 non-null    int64 \n",
      " 17  Diplopia     400 non-null    int64 \n",
      " 18  Defect       400 non-null    int64 \n",
      " 19  Ataxia       400 non-null    int64 \n",
      " 20  Conscience   400 non-null    int64 \n",
      " 21  Paresthesia  400 non-null    int64 \n",
      " 22  DPF          400 non-null    int64 \n",
      " 23  Type         400 non-null    object\n",
      "dtypes: int64(23), object(1)\n",
      "memory usage: 75.1+ KB\n"
     ]
    }
   ],
   "source": [
    "df.info()"
   ]
  },
  {
   "cell_type": "code",
   "execution_count": 6,
   "id": "f1a42acd",
   "metadata": {
    "execution": {
     "iopub.execute_input": "2022-07-16T20:11:00.480322Z",
     "iopub.status.busy": "2022-07-16T20:11:00.479933Z",
     "iopub.status.idle": "2022-07-16T20:11:00.489167Z",
     "shell.execute_reply": "2022-07-16T20:11:00.487925Z"
    },
    "id": "E2aLCyroFpUa",
    "outputId": "f68dfa9b-4217-4b19-9839-4bda96dafa93",
    "papermill": {
     "duration": 0.023789,
     "end_time": "2022-07-16T20:11:00.491605",
     "exception": false,
     "start_time": "2022-07-16T20:11:00.467816",
     "status": "completed"
    },
    "tags": []
   },
   "outputs": [
    {
     "data": {
      "text/plain": [
       "20    21\n",
       "17    20\n",
       "35    20\n",
       "25    19\n",
       "22    18\n",
       "28    18\n",
       "21    16\n",
       "27    15\n",
       "30    14\n",
       "24    14\n",
       "19    13\n",
       "26    13\n",
       "23    12\n",
       "29    10\n",
       "16    10\n",
       "38    10\n",
       "40     9\n",
       "31     9\n",
       "50     9\n",
       "34     8\n",
       "48     8\n",
       "18     8\n",
       "33     7\n",
       "43     7\n",
       "51     7\n",
       "49     7\n",
       "46     6\n",
       "41     6\n",
       "44     6\n",
       "53     5\n",
       "15     5\n",
       "54     5\n",
       "36     5\n",
       "37     5\n",
       "45     4\n",
       "47     4\n",
       "39     4\n",
       "56     3\n",
       "32     3\n",
       "42     3\n",
       "52     2\n",
       "57     2\n",
       "58     2\n",
       "55     1\n",
       "59     1\n",
       "68     1\n",
       "77     1\n",
       "67     1\n",
       "69     1\n",
       "70     1\n",
       "64     1\n",
       "Name: Age, dtype: int64"
      ]
     },
     "execution_count": 6,
     "metadata": {},
     "output_type": "execute_result"
    }
   ],
   "source": [
    "df['Age'].value_counts()"
   ]
  },
  {
   "cell_type": "code",
   "execution_count": 7,
   "id": "acd386c0",
   "metadata": {
    "execution": {
     "iopub.execute_input": "2022-07-16T20:11:00.515541Z",
     "iopub.status.busy": "2022-07-16T20:11:00.515100Z",
     "iopub.status.idle": "2022-07-16T20:11:00.524336Z",
     "shell.execute_reply": "2022-07-16T20:11:00.523188Z"
    },
    "id": "nHP3e6ewGz76",
    "outputId": "00ab7639-bec7-4f34-d197-2b0e42f3cb40",
    "papermill": {
     "duration": 0.023892,
     "end_time": "2022-07-16T20:11:00.526554",
     "exception": false,
     "start_time": "2022-07-16T20:11:00.502662",
     "status": "completed"
    },
    "tags": []
   },
   "outputs": [
    {
     "data": {
      "text/plain": [
       "1    371\n",
       "0     20\n",
       "2      9\n",
       "Name: Location, dtype: int64"
      ]
     },
     "execution_count": 7,
     "metadata": {},
     "output_type": "execute_result"
    }
   ],
   "source": [
    "df['Location'].value_counts()"
   ]
  },
  {
   "cell_type": "code",
   "execution_count": 8,
   "id": "51a0d00a",
   "metadata": {
    "execution": {
     "iopub.execute_input": "2022-07-16T20:11:00.550149Z",
     "iopub.status.busy": "2022-07-16T20:11:00.549212Z",
     "iopub.status.idle": "2022-07-16T20:11:00.559201Z",
     "shell.execute_reply": "2022-07-16T20:11:00.557701Z"
    },
    "id": "ogtqS_CpGnp-",
    "outputId": "fc9de26c-a96e-4977-ec4f-385d8f55e4b6",
    "papermill": {
     "duration": 0.024994,
     "end_time": "2022-07-16T20:11:00.562229",
     "exception": false,
     "start_time": "2022-07-16T20:11:00.537235",
     "status": "completed"
    },
    "tags": []
   },
   "outputs": [
    {
     "data": {
      "text/plain": [
       "1    189\n",
       "2     76\n",
       "5     70\n",
       "3     34\n",
       "4     20\n",
       "7      5\n",
       "6      5\n",
       "8      1\n",
       "Name: Frequency, dtype: int64"
      ]
     },
     "execution_count": 8,
     "metadata": {},
     "output_type": "execute_result"
    }
   ],
   "source": [
    "df['Frequency'].value_counts()"
   ]
  },
  {
   "cell_type": "code",
   "execution_count": 9,
   "id": "d0cfba5e",
   "metadata": {
    "execution": {
     "iopub.execute_input": "2022-07-16T20:11:00.586050Z",
     "iopub.status.busy": "2022-07-16T20:11:00.585674Z",
     "iopub.status.idle": "2022-07-16T20:11:00.593215Z",
     "shell.execute_reply": "2022-07-16T20:11:00.592437Z"
    },
    "id": "uuvYwCFIGh3h",
    "outputId": "4bf7a9e9-3cab-4854-977d-96a9eb609de6",
    "papermill": {
     "duration": 0.022077,
     "end_time": "2022-07-16T20:11:00.595220",
     "exception": false,
     "start_time": "2022-07-16T20:11:00.573143",
     "status": "completed"
    },
    "tags": []
   },
   "outputs": [
    {
     "data": {
      "text/plain": [
       "1    227\n",
       "2    102\n",
       "3     71\n",
       "Name: Duration, dtype: int64"
      ]
     },
     "execution_count": 9,
     "metadata": {},
     "output_type": "execute_result"
    }
   ],
   "source": [
    "df['Duration'].value_counts()"
   ]
  },
  {
   "cell_type": "code",
   "execution_count": 10,
   "id": "7e2c6b1b",
   "metadata": {
    "execution": {
     "iopub.execute_input": "2022-07-16T20:11:00.618997Z",
     "iopub.status.busy": "2022-07-16T20:11:00.618568Z",
     "iopub.status.idle": "2022-07-16T20:11:00.627803Z",
     "shell.execute_reply": "2022-07-16T20:11:00.626681Z"
    },
    "id": "NZhQ0kpSG0PT",
    "outputId": "e8e47158-6bf9-4892-a767-e8954dc19e51",
    "papermill": {
     "duration": 0.024188,
     "end_time": "2022-07-16T20:11:00.630144",
     "exception": false,
     "start_time": "2022-07-16T20:11:00.605956",
     "status": "completed"
    },
    "tags": []
   },
   "outputs": [
    {
     "data": {
      "text/plain": [
       "0    400\n",
       "Name: Ataxia, dtype: int64"
      ]
     },
     "execution_count": 10,
     "metadata": {},
     "output_type": "execute_result"
    }
   ],
   "source": [
    "df['Ataxia'].value_counts()"
   ]
  },
  {
   "cell_type": "code",
   "execution_count": 11,
   "id": "44596cd3",
   "metadata": {
    "execution": {
     "iopub.execute_input": "2022-07-16T20:11:00.654310Z",
     "iopub.status.busy": "2022-07-16T20:11:00.653921Z",
     "iopub.status.idle": "2022-07-16T20:11:00.735543Z",
     "shell.execute_reply": "2022-07-16T20:11:00.733410Z"
    },
    "id": "cGuV23LVGZ_k",
    "outputId": "52296da9-9b61-443d-a881-ed457a7e9213",
    "papermill": {
     "duration": 0.096921,
     "end_time": "2022-07-16T20:11:00.738595",
     "exception": false,
     "start_time": "2022-07-16T20:11:00.641674",
     "status": "completed"
    },
    "tags": []
   },
   "outputs": [
    {
     "data": {
      "text/html": [
       "<div>\n",
       "<style scoped>\n",
       "    .dataframe tbody tr th:only-of-type {\n",
       "        vertical-align: middle;\n",
       "    }\n",
       "\n",
       "    .dataframe tbody tr th {\n",
       "        vertical-align: top;\n",
       "    }\n",
       "\n",
       "    .dataframe thead th {\n",
       "        text-align: right;\n",
       "    }\n",
       "</style>\n",
       "<table border=\"1\" class=\"dataframe\">\n",
       "  <thead>\n",
       "    <tr style=\"text-align: right;\">\n",
       "      <th></th>\n",
       "      <th>Age</th>\n",
       "      <th>Duration</th>\n",
       "      <th>Frequency</th>\n",
       "      <th>Location</th>\n",
       "      <th>Character</th>\n",
       "      <th>Intensity</th>\n",
       "      <th>Nausea</th>\n",
       "      <th>Vomit</th>\n",
       "      <th>Phonophobia</th>\n",
       "      <th>Photophobia</th>\n",
       "      <th>...</th>\n",
       "      <th>Dysarthria</th>\n",
       "      <th>Vertigo</th>\n",
       "      <th>Tinnitus</th>\n",
       "      <th>Hypoacusis</th>\n",
       "      <th>Diplopia</th>\n",
       "      <th>Defect</th>\n",
       "      <th>Ataxia</th>\n",
       "      <th>Conscience</th>\n",
       "      <th>Paresthesia</th>\n",
       "      <th>DPF</th>\n",
       "    </tr>\n",
       "  </thead>\n",
       "  <tbody>\n",
       "    <tr>\n",
       "      <th>count</th>\n",
       "      <td>400.000000</td>\n",
       "      <td>400.000000</td>\n",
       "      <td>400.000000</td>\n",
       "      <td>400.000000</td>\n",
       "      <td>400.000000</td>\n",
       "      <td>400.00000</td>\n",
       "      <td>400.000000</td>\n",
       "      <td>400.000000</td>\n",
       "      <td>400.000000</td>\n",
       "      <td>400.000000</td>\n",
       "      <td>...</td>\n",
       "      <td>400.0000</td>\n",
       "      <td>400.000000</td>\n",
       "      <td>400.000000</td>\n",
       "      <td>400.000000</td>\n",
       "      <td>400.000000</td>\n",
       "      <td>400.000000</td>\n",
       "      <td>400.0</td>\n",
       "      <td>400.000000</td>\n",
       "      <td>400.000000</td>\n",
       "      <td>400.000000</td>\n",
       "    </tr>\n",
       "    <tr>\n",
       "      <th>mean</th>\n",
       "      <td>31.705000</td>\n",
       "      <td>1.610000</td>\n",
       "      <td>2.365000</td>\n",
       "      <td>0.972500</td>\n",
       "      <td>0.977500</td>\n",
       "      <td>2.47000</td>\n",
       "      <td>0.987500</td>\n",
       "      <td>0.322500</td>\n",
       "      <td>0.977500</td>\n",
       "      <td>0.980000</td>\n",
       "      <td>...</td>\n",
       "      <td>0.0025</td>\n",
       "      <td>0.125000</td>\n",
       "      <td>0.060000</td>\n",
       "      <td>0.015000</td>\n",
       "      <td>0.005000</td>\n",
       "      <td>0.015000</td>\n",
       "      <td>0.0</td>\n",
       "      <td>0.017500</td>\n",
       "      <td>0.007500</td>\n",
       "      <td>0.410000</td>\n",
       "    </tr>\n",
       "    <tr>\n",
       "      <th>std</th>\n",
       "      <td>12.139043</td>\n",
       "      <td>0.770964</td>\n",
       "      <td>1.675947</td>\n",
       "      <td>0.268186</td>\n",
       "      <td>0.277825</td>\n",
       "      <td>0.76849</td>\n",
       "      <td>0.111242</td>\n",
       "      <td>0.468019</td>\n",
       "      <td>0.148489</td>\n",
       "      <td>0.140175</td>\n",
       "      <td>...</td>\n",
       "      <td>0.0500</td>\n",
       "      <td>0.331133</td>\n",
       "      <td>0.237784</td>\n",
       "      <td>0.121705</td>\n",
       "      <td>0.070622</td>\n",
       "      <td>0.121705</td>\n",
       "      <td>0.0</td>\n",
       "      <td>0.131289</td>\n",
       "      <td>0.086385</td>\n",
       "      <td>0.492449</td>\n",
       "    </tr>\n",
       "    <tr>\n",
       "      <th>min</th>\n",
       "      <td>15.000000</td>\n",
       "      <td>1.000000</td>\n",
       "      <td>1.000000</td>\n",
       "      <td>0.000000</td>\n",
       "      <td>0.000000</td>\n",
       "      <td>0.00000</td>\n",
       "      <td>0.000000</td>\n",
       "      <td>0.000000</td>\n",
       "      <td>0.000000</td>\n",
       "      <td>0.000000</td>\n",
       "      <td>...</td>\n",
       "      <td>0.0000</td>\n",
       "      <td>0.000000</td>\n",
       "      <td>0.000000</td>\n",
       "      <td>0.000000</td>\n",
       "      <td>0.000000</td>\n",
       "      <td>0.000000</td>\n",
       "      <td>0.0</td>\n",
       "      <td>0.000000</td>\n",
       "      <td>0.000000</td>\n",
       "      <td>0.000000</td>\n",
       "    </tr>\n",
       "    <tr>\n",
       "      <th>25%</th>\n",
       "      <td>22.000000</td>\n",
       "      <td>1.000000</td>\n",
       "      <td>1.000000</td>\n",
       "      <td>1.000000</td>\n",
       "      <td>1.000000</td>\n",
       "      <td>2.00000</td>\n",
       "      <td>1.000000</td>\n",
       "      <td>0.000000</td>\n",
       "      <td>1.000000</td>\n",
       "      <td>1.000000</td>\n",
       "      <td>...</td>\n",
       "      <td>0.0000</td>\n",
       "      <td>0.000000</td>\n",
       "      <td>0.000000</td>\n",
       "      <td>0.000000</td>\n",
       "      <td>0.000000</td>\n",
       "      <td>0.000000</td>\n",
       "      <td>0.0</td>\n",
       "      <td>0.000000</td>\n",
       "      <td>0.000000</td>\n",
       "      <td>0.000000</td>\n",
       "    </tr>\n",
       "    <tr>\n",
       "      <th>50%</th>\n",
       "      <td>28.000000</td>\n",
       "      <td>1.000000</td>\n",
       "      <td>2.000000</td>\n",
       "      <td>1.000000</td>\n",
       "      <td>1.000000</td>\n",
       "      <td>3.00000</td>\n",
       "      <td>1.000000</td>\n",
       "      <td>0.000000</td>\n",
       "      <td>1.000000</td>\n",
       "      <td>1.000000</td>\n",
       "      <td>...</td>\n",
       "      <td>0.0000</td>\n",
       "      <td>0.000000</td>\n",
       "      <td>0.000000</td>\n",
       "      <td>0.000000</td>\n",
       "      <td>0.000000</td>\n",
       "      <td>0.000000</td>\n",
       "      <td>0.0</td>\n",
       "      <td>0.000000</td>\n",
       "      <td>0.000000</td>\n",
       "      <td>0.000000</td>\n",
       "    </tr>\n",
       "    <tr>\n",
       "      <th>75%</th>\n",
       "      <td>40.000000</td>\n",
       "      <td>2.000000</td>\n",
       "      <td>4.000000</td>\n",
       "      <td>1.000000</td>\n",
       "      <td>1.000000</td>\n",
       "      <td>3.00000</td>\n",
       "      <td>1.000000</td>\n",
       "      <td>1.000000</td>\n",
       "      <td>1.000000</td>\n",
       "      <td>1.000000</td>\n",
       "      <td>...</td>\n",
       "      <td>0.0000</td>\n",
       "      <td>0.000000</td>\n",
       "      <td>0.000000</td>\n",
       "      <td>0.000000</td>\n",
       "      <td>0.000000</td>\n",
       "      <td>0.000000</td>\n",
       "      <td>0.0</td>\n",
       "      <td>0.000000</td>\n",
       "      <td>0.000000</td>\n",
       "      <td>1.000000</td>\n",
       "    </tr>\n",
       "    <tr>\n",
       "      <th>max</th>\n",
       "      <td>77.000000</td>\n",
       "      <td>3.000000</td>\n",
       "      <td>8.000000</td>\n",
       "      <td>2.000000</td>\n",
       "      <td>2.000000</td>\n",
       "      <td>3.00000</td>\n",
       "      <td>1.000000</td>\n",
       "      <td>1.000000</td>\n",
       "      <td>1.000000</td>\n",
       "      <td>1.000000</td>\n",
       "      <td>...</td>\n",
       "      <td>1.0000</td>\n",
       "      <td>1.000000</td>\n",
       "      <td>1.000000</td>\n",
       "      <td>1.000000</td>\n",
       "      <td>1.000000</td>\n",
       "      <td>1.000000</td>\n",
       "      <td>0.0</td>\n",
       "      <td>1.000000</td>\n",
       "      <td>1.000000</td>\n",
       "      <td>1.000000</td>\n",
       "    </tr>\n",
       "  </tbody>\n",
       "</table>\n",
       "<p>8 rows × 23 columns</p>\n",
       "</div>"
      ],
      "text/plain": [
       "              Age    Duration   Frequency    Location   Character  Intensity  \\\n",
       "count  400.000000  400.000000  400.000000  400.000000  400.000000  400.00000   \n",
       "mean    31.705000    1.610000    2.365000    0.972500    0.977500    2.47000   \n",
       "std     12.139043    0.770964    1.675947    0.268186    0.277825    0.76849   \n",
       "min     15.000000    1.000000    1.000000    0.000000    0.000000    0.00000   \n",
       "25%     22.000000    1.000000    1.000000    1.000000    1.000000    2.00000   \n",
       "50%     28.000000    1.000000    2.000000    1.000000    1.000000    3.00000   \n",
       "75%     40.000000    2.000000    4.000000    1.000000    1.000000    3.00000   \n",
       "max     77.000000    3.000000    8.000000    2.000000    2.000000    3.00000   \n",
       "\n",
       "           Nausea       Vomit  Phonophobia  Photophobia  ...  Dysarthria  \\\n",
       "count  400.000000  400.000000   400.000000   400.000000  ...    400.0000   \n",
       "mean     0.987500    0.322500     0.977500     0.980000  ...      0.0025   \n",
       "std      0.111242    0.468019     0.148489     0.140175  ...      0.0500   \n",
       "min      0.000000    0.000000     0.000000     0.000000  ...      0.0000   \n",
       "25%      1.000000    0.000000     1.000000     1.000000  ...      0.0000   \n",
       "50%      1.000000    0.000000     1.000000     1.000000  ...      0.0000   \n",
       "75%      1.000000    1.000000     1.000000     1.000000  ...      0.0000   \n",
       "max      1.000000    1.000000     1.000000     1.000000  ...      1.0000   \n",
       "\n",
       "          Vertigo    Tinnitus  Hypoacusis    Diplopia      Defect  Ataxia  \\\n",
       "count  400.000000  400.000000  400.000000  400.000000  400.000000   400.0   \n",
       "mean     0.125000    0.060000    0.015000    0.005000    0.015000     0.0   \n",
       "std      0.331133    0.237784    0.121705    0.070622    0.121705     0.0   \n",
       "min      0.000000    0.000000    0.000000    0.000000    0.000000     0.0   \n",
       "25%      0.000000    0.000000    0.000000    0.000000    0.000000     0.0   \n",
       "50%      0.000000    0.000000    0.000000    0.000000    0.000000     0.0   \n",
       "75%      0.000000    0.000000    0.000000    0.000000    0.000000     0.0   \n",
       "max      1.000000    1.000000    1.000000    1.000000    1.000000     0.0   \n",
       "\n",
       "       Conscience  Paresthesia         DPF  \n",
       "count  400.000000   400.000000  400.000000  \n",
       "mean     0.017500     0.007500    0.410000  \n",
       "std      0.131289     0.086385    0.492449  \n",
       "min      0.000000     0.000000    0.000000  \n",
       "25%      0.000000     0.000000    0.000000  \n",
       "50%      0.000000     0.000000    0.000000  \n",
       "75%      0.000000     0.000000    1.000000  \n",
       "max      1.000000     1.000000    1.000000  \n",
       "\n",
       "[8 rows x 23 columns]"
      ]
     },
     "execution_count": 11,
     "metadata": {},
     "output_type": "execute_result"
    }
   ],
   "source": [
    "df.describe()"
   ]
  },
  {
   "cell_type": "code",
   "execution_count": 12,
   "id": "a20433b1",
   "metadata": {
    "execution": {
     "iopub.execute_input": "2022-07-16T20:11:00.764415Z",
     "iopub.status.busy": "2022-07-16T20:11:00.763601Z",
     "iopub.status.idle": "2022-07-16T20:11:01.237343Z",
     "shell.execute_reply": "2022-07-16T20:11:01.236193Z"
    },
    "id": "seM_UuXeHTfU",
    "outputId": "097afb63-3229-4ca2-e911-2b84bdb0472a",
    "papermill": {
     "duration": 0.489491,
     "end_time": "2022-07-16T20:11:01.239838",
     "exception": false,
     "start_time": "2022-07-16T20:11:00.750347",
     "status": "completed"
    },
    "tags": []
   },
   "outputs": [
    {
     "data": {
      "text/plain": [
       "<AxesSubplot:>"
      ]
     },
     "execution_count": 12,
     "metadata": {},
     "output_type": "execute_result"
    },
    {
     "data": {
      "image/png": "[encoded data removed]",
      "text/plain": [
       "<Figure size 432x288 with 2 Axes>"
      ]
     },
     "metadata": {
      "needs_background": "light"
     },
     "output_type": "display_data"
    }
   ],
   "source": [
    "sns.heatmap(df.corr(),cmap='Blues')"
   ]
  },
  {
   "cell_type": "code",
   "execution_count": 13,
   "id": "7683fc2a",
   "metadata": {},
   "outputs": [
    {
     "name": "stdout",
     "output_type": "stream",
     "text": [
      "Index(['Age', 'Duration', 'Frequency', 'Location', 'Character', 'Intensity',\n",
      "       'Nausea', 'Vomit', 'Phonophobia', 'Photophobia', 'Visual', 'Sensory',\n",
      "       'Dysphasia', 'Dysarthria', 'Vertigo', 'Tinnitus', 'Hypoacusis',\n",
      "       'Diplopia', 'Defect', 'Ataxia', 'Conscience', 'Paresthesia', 'DPF',\n",
      "       'Type'],\n",
      "      dtype='object')\n"
     ]
    }
   ],
   "source": [
    "print(df.columns)"
   ]
  },
  {
   "cell_type": "code",
   "execution_count": 14,
   "id": "6e86edb8",
   "metadata": {},
   "outputs": [
    {
     "name": "stderr",
     "output_type": "stream",
     "text": [
      "C:\\Users\\aishw\\AppData\\Local\\Temp\\ipykernel_9448\\1936783196.py:1: FutureWarning: In a future version of pandas all arguments of DataFrame.drop except for the argument 'labels' will be keyword-only.\n",
      "  df.drop(['Ataxia'],1,inplace=True)\n"
     ]
    }
   ],
   "source": [
    "df.drop(['Ataxia'],1,inplace=True)"
   ]
  },
  {
   "cell_type": "markdown",
   "id": "bb064c19",
   "metadata": {
    "id": "MxIsebmsIMV0",
    "papermill": {
     "duration": 0.012284,
     "end_time": "2022-07-16T20:11:01.303126",
     "exception": false,
     "start_time": "2022-07-16T20:11:01.290842",
     "status": "completed"
    },
    "tags": []
   },
   "source": [
    "# **visulization**"
   ]
  },
  {
   "cell_type": "code",
   "execution_count": 15,
   "id": "f49aecf9",
   "metadata": {
    "execution": {
     "iopub.execute_input": "2022-07-16T20:11:01.330590Z",
     "iopub.status.busy": "2022-07-16T20:11:01.329821Z",
     "iopub.status.idle": "2022-07-16T20:11:01.337503Z",
     "shell.execute_reply": "2022-07-16T20:11:01.336129Z"
    },
    "id": "kFx2X-3FJT4O",
    "outputId": "20fa3cee-42de-4d04-df8f-b8a3a9d46dde",
    "papermill": {
     "duration": 0.02398,
     "end_time": "2022-07-16T20:11:01.340077",
     "exception": false,
     "start_time": "2022-07-16T20:11:01.316097",
     "status": "completed"
    },
    "tags": []
   },
   "outputs": [
    {
     "data": {
      "text/plain": [
       "array(['Typical aura with migraine', 'Migraine without aura',\n",
       "       'Basilar-type aura', 'Sporadic hemiplegic migraine',\n",
       "       'Familial hemiplegic migraine', 'Other',\n",
       "       'Typical aura without migraine'], dtype=object)"
      ]
     },
     "execution_count": 15,
     "metadata": {},
     "output_type": "execute_result"
    }
   ],
   "source": [
    "df['Type'].unique()"
   ]
  },
  {
   "cell_type": "code",
   "execution_count": 16,
   "id": "a84ebe76",
   "metadata": {
    "execution": {
     "iopub.execute_input": "2022-07-16T20:11:01.367111Z",
     "iopub.status.busy": "2022-07-16T20:11:01.366703Z",
     "iopub.status.idle": "2022-07-16T20:11:01.375701Z",
     "shell.execute_reply": "2022-07-16T20:11:01.374277Z"
    },
    "id": "ormGyKlLIuOo",
    "outputId": "3a641dfd-f641-4c9c-f421-f4c269a9f354",
    "papermill": {
     "duration": 0.025401,
     "end_time": "2022-07-16T20:11:01.378117",
     "exception": false,
     "start_time": "2022-07-16T20:11:01.352716",
     "status": "completed"
    },
    "tags": []
   },
   "outputs": [
    {
     "data": {
      "text/plain": [
       "7"
      ]
     },
     "execution_count": 16,
     "metadata": {},
     "output_type": "execute_result"
    }
   ],
   "source": [
    "len(df['Type'].value_counts())"
   ]
  },
  {
   "cell_type": "code",
   "execution_count": 17,
   "id": "13e1ca8c",
   "metadata": {
    "execution": {
     "iopub.execute_input": "2022-07-16T20:11:01.405085Z",
     "iopub.status.busy": "2022-07-16T20:11:01.404659Z",
     "iopub.status.idle": "2022-07-16T20:11:01.654470Z",
     "shell.execute_reply": "2022-07-16T20:11:01.653122Z"
    },
    "id": "S_GtFkcvIR8j",
    "outputId": "c927bcc1-e560-4b6d-f778-5626ef00bfc2",
    "papermill": {
     "duration": 0.266476,
     "end_time": "2022-07-16T20:11:01.657187",
     "exception": false,
     "start_time": "2022-07-16T20:11:01.390711",
     "status": "completed"
    },
    "tags": []
   },
   "outputs": [
    {
     "data": {
      "text/plain": [
       "<AxesSubplot:xlabel='Age', ylabel='Count'>"
      ]
     },
     "execution_count": 17,
     "metadata": {},
     "output_type": "execute_result"
    },
    {
     "data": {
      "image/png": "[encoded data removed]",
      "text/plain": [
       "<Figure size 432x288 with 1 Axes>"
      ]
     },
     "metadata": {
      "needs_background": "light"
     },
     "output_type": "display_data"
    }
   ],
   "source": [
    "sns.histplot(df[\"Age\"],color='r')"
   ]
  },
  {
   "cell_type": "code",
   "execution_count": 19,
   "id": "7e5289d3",
   "metadata": {
    "execution": {
     "iopub.execute_input": "2022-07-16T20:11:01.684889Z",
     "iopub.status.busy": "2022-07-16T20:11:01.684484Z",
     "iopub.status.idle": "2022-07-16T20:11:02.166798Z",
     "shell.execute_reply": "2022-07-16T20:11:02.165521Z"
    },
    "id": "QonEb70aIlL6",
    "outputId": "82f033c5-0821-4705-b2d2-b729a542350e",
    "papermill": {
     "duration": 0.499139,
     "end_time": "2022-07-16T20:11:02.169314",
     "exception": false,
     "start_time": "2022-07-16T20:11:01.670175",
     "status": "completed"
    },
    "tags": []
   },
   "outputs": [
    {
     "data": {
      "text/plain": [
       "Text(0.5, 1.0, 'Frequency of different Types')"
      ]
     },
     "execution_count": 19,
     "metadata": {},
     "output_type": "execute_result"
    },
    {
     "data": {
      "image/png": "[encoded data removed]",
      "text/plain": [
       "<Figure size 1440x576 with 1 Axes>"
      ]
     },
     "metadata": {
      "needs_background": "light"
     },
     "output_type": "display_data"
    }
   ],
   "source": [
    "a=np.arange(1,401)\n",
    "ax=plt.figure(figsize=(20,8))\n",
    "sns.barplot(x='Type',y=a,data=df,palette='icefire')\n",
    "plt.ylabel('Frequency')\n",
    "plt.title('Frequency of different Types')"
   ]
  },
  {
   "cell_type": "markdown",
   "id": "992cef21",
   "metadata": {
    "execution": {
     "iopub.execute_input": "2022-07-16T20:11:02.198759Z",
     "iopub.status.busy": "2022-07-16T20:11:02.197616Z",
     "iopub.status.idle": "2022-07-16T20:11:02.499147Z",
     "shell.execute_reply": "2022-07-16T20:11:02.498351Z"
    },
    "id": "M_0vm55MLewe",
    "outputId": "f451fb80-0dfa-4e28-cd98-d88cf2a40c51",
    "papermill": {
     "duration": 0.318445,
     "end_time": "2022-07-16T20:11:02.501281",
     "exception": false,
     "start_time": "2022-07-16T20:11:02.182836",
     "status": "completed"
    },
    "tags": []
   },
   "source": [
    "plt.figure(figsize=(20,10))\n",
    "sns.boxplot(x=\"Dysphasia\", y=\"Type\", data=df)"
   ]
  },
  {
   "cell_type": "code",
   "execution_count": 20,
   "id": "b00f9add",
   "metadata": {
    "execution": {
     "iopub.execute_input": "2022-07-16T20:11:02.530737Z",
     "iopub.status.busy": "2022-07-16T20:11:02.529952Z",
     "iopub.status.idle": "2022-07-16T20:11:03.047277Z",
     "shell.execute_reply": "2022-07-16T20:11:03.046012Z"
    },
    "id": "RIMR2OpjMpff",
    "outputId": "a771375f-3193-4a5c-a5bf-d18f5b36e642",
    "papermill": {
     "duration": 0.534803,
     "end_time": "2022-07-16T20:11:03.049866",
     "exception": false,
     "start_time": "2022-07-16T20:11:02.515063",
     "status": "completed"
    },
    "tags": []
   },
   "outputs": [
    {
     "data": {
      "text/plain": [
       "<seaborn.axisgrid.FacetGrid at 0x1b4628ed2e0>"
      ]
     },
     "execution_count": 20,
     "metadata": {},
     "output_type": "execute_result"
    },
    {
     "data": {
      "image/png": "[encoded data removed]",
      "text/plain": [
       "<Figure size 410.125x360 with 1 Axes>"
      ]
     },
     "metadata": {
      "needs_background": "light"
     },
     "output_type": "display_data"
    }
   ],
   "source": [
    "sns.displot(df, x=\"Age\", hue=\"Location\")"
   ]
  },
  {
   "cell_type": "code",
   "execution_count": 21,
   "id": "5190845e",
   "metadata": {
    "execution": {
     "iopub.execute_input": "2022-07-16T20:11:03.081889Z",
     "iopub.status.busy": "2022-07-16T20:11:03.081141Z",
     "iopub.status.idle": "2022-07-16T20:11:03.546386Z",
     "shell.execute_reply": "2022-07-16T20:11:03.545237Z"
    },
    "id": "bWT65MInNFkE",
    "outputId": "c56f9210-90fd-40c3-e173-c4171700d0ab",
    "papermill": {
     "duration": 0.484351,
     "end_time": "2022-07-16T20:11:03.549132",
     "exception": false,
     "start_time": "2022-07-16T20:11:03.064781",
     "status": "completed"
    },
    "tags": []
   },
   "outputs": [
    {
     "data": {
      "text/plain": [
       "<seaborn.axisgrid.FacetGrid at 0x1b45d7a1550>"
      ]
     },
     "execution_count": 21,
     "metadata": {},
     "output_type": "execute_result"
    },
    {
     "data": {
      "image/png": "[encoded data removed]",
      "text/plain": [
       "<Figure size 403.5x360 with 1 Axes>"
      ]
     },
     "metadata": {
      "needs_background": "light"
     },
     "output_type": "display_data"
    }
   ],
   "source": [
    "sns.displot(df, x=\"Age\", hue=\"Vertigo\")"
   ]
  },
  {
   "cell_type": "code",
   "execution_count": 22,
   "id": "7b9601a2",
   "metadata": {
    "execution": {
     "iopub.execute_input": "2022-07-16T20:11:03.580660Z",
     "iopub.status.busy": "2022-07-16T20:11:03.580233Z",
     "iopub.status.idle": "2022-07-16T20:11:03.867678Z",
     "shell.execute_reply": "2022-07-16T20:11:03.866576Z"
    },
    "id": "S5bB6V8HNzIr",
    "outputId": "5df7c091-bb19-429e-c01c-0d4735597102",
    "papermill": {
     "duration": 0.306314,
     "end_time": "2022-07-16T20:11:03.870156",
     "exception": false,
     "start_time": "2022-07-16T20:11:03.563842",
     "status": "completed"
    },
    "tags": []
   },
   "outputs": [
    {
     "data": {
      "text/plain": [
       "<seaborn.axisgrid.FacetGrid at 0x1b462b4a370>"
      ]
     },
     "execution_count": 22,
     "metadata": {},
     "output_type": "execute_result"
    },
    {
     "data": {
      "image/png": "[encoded data removed]",
      "text/plain": [
       "<Figure size 360x360 with 1 Axes>"
      ]
     },
     "metadata": {
      "needs_background": "light"
     },
     "output_type": "display_data"
    }
   ],
   "source": [
    "sns.displot(x=\"Intensity\", y=\"Age\", data=df)"
   ]
  },
  {
   "cell_type": "markdown",
   "id": "79e68e19",
   "metadata": {
    "id": "5tz5c7w-Oozj",
    "papermill": {
     "duration": 0.015749,
     "end_time": "2022-07-16T20:11:03.901227",
     "exception": false,
     "start_time": "2022-07-16T20:11:03.885478",
     "status": "completed"
    },
    "tags": []
   },
   "source": [
    "# **Splitting the data**"
   ]
  },
  {
   "cell_type": "code",
   "execution_count": 24,
   "id": "2d12a672",
   "metadata": {
    "execution": {
     "iopub.execute_input": "2022-07-16T20:11:03.933492Z",
     "iopub.status.busy": "2022-07-16T20:11:03.933050Z",
     "iopub.status.idle": "2022-07-16T20:11:03.940130Z",
     "shell.execute_reply": "2022-07-16T20:11:03.938403Z"
    },
    "id": "IgWFPaq_OoFm",
    "outputId": "89ffbd92-8e8b-4fd3-cbc0-6bca70aa1096",
    "papermill": {
     "duration": 0.026188,
     "end_time": "2022-07-16T20:11:03.942545",
     "exception": false,
     "start_time": "2022-07-16T20:11:03.916357",
     "status": "completed"
    },
    "tags": []
   },
   "outputs": [
    {
     "name": "stderr",
     "output_type": "stream",
     "text": [
      "C:\\Users\\aishw\\AppData\\Local\\Temp\\ipykernel_9448\\1006572068.py:1: FutureWarning: In a future version of pandas all arguments of DataFrame.drop except for the argument 'labels' will be keyword-only.\n",
      "  x=df.drop(['Type'],1)\n"
     ]
    }
   ],
   "source": [
    "x=df.drop(['Type'],1)\n",
    "y=df['Type'].copy()"
   ]
  },
  {
   "cell_type": "code",
   "execution_count": 25,
   "id": "46c95236",
   "metadata": {},
   "outputs": [
    {
     "name": "stdout",
     "output_type": "stream",
     "text": [
      "0      Typical aura with migraine\n",
      "1      Typical aura with migraine\n",
      "2      Typical aura with migraine\n",
      "3      Typical aura with migraine\n",
      "4      Typical aura with migraine\n",
      "                  ...            \n",
      "395             Basilar-type aura\n",
      "396             Basilar-type aura\n",
      "397             Basilar-type aura\n",
      "398             Basilar-type aura\n",
      "399             Basilar-type aura\n",
      "Name: Type, Length: 400, dtype: object\n"
     ]
    }
   ],
   "source": [
    "print(y)"
   ]
  },
  {
   "cell_type": "code",
   "execution_count": 26,
   "id": "29f8a084",
   "metadata": {
    "execution": {
     "iopub.execute_input": "2022-07-16T20:11:03.974975Z",
     "iopub.status.busy": "2022-07-16T20:11:03.974583Z",
     "iopub.status.idle": "2022-07-16T20:11:03.982575Z",
     "shell.execute_reply": "2022-07-16T20:11:03.981219Z"
    },
    "id": "j_bdJzxeQlm6",
    "papermill": {
     "duration": 0.027194,
     "end_time": "2022-07-16T20:11:03.985113",
     "exception": false,
     "start_time": "2022-07-16T20:11:03.957919",
     "status": "completed"
    },
    "tags": []
   },
   "outputs": [],
   "source": [
    "xtrain, xtest, ytrain, ytest = train_test_split(x,y, test_size = 0.2, random_state = 101)"
   ]
  },
  {
   "cell_type": "code",
   "execution_count": 27,
   "id": "0afe7d19",
   "metadata": {
    "execution": {
     "iopub.execute_input": "2022-07-16T20:11:04.018327Z",
     "iopub.status.busy": "2022-07-16T20:11:04.017906Z",
     "iopub.status.idle": "2022-07-16T20:11:04.028662Z",
     "shell.execute_reply": "2022-07-16T20:11:04.027506Z"
    },
    "id": "JP31Zs3ERk3E",
    "papermill": {
     "duration": 0.030839,
     "end_time": "2022-07-16T20:11:04.031450",
     "exception": false,
     "start_time": "2022-07-16T20:11:04.000611",
     "status": "completed"
    },
    "tags": []
   },
   "outputs": [],
   "source": [
    "scaler=StandardScaler()\n",
    "X_train_scale=scaler.fit_transform(xtrain)\n",
    "X_test_scale = scaler.transform(xtest)"
   ]
  },
  {
   "cell_type": "markdown",
   "id": "63cbca72",
   "metadata": {
    "id": "paPqhih1RqxL",
    "papermill": {
     "duration": 0.014849,
     "end_time": "2022-07-16T20:11:04.061559",
     "exception": false,
     "start_time": "2022-07-16T20:11:04.046710",
     "status": "completed"
    },
    "tags": []
   },
   "source": [
    "# **Models**"
   ]
  },
  {
   "cell_type": "code",
   "execution_count": 28,
   "id": "ebe66980",
   "metadata": {
    "execution": {
     "iopub.execute_input": "2022-07-16T20:11:04.094243Z",
     "iopub.status.busy": "2022-07-16T20:11:04.093042Z",
     "iopub.status.idle": "2022-07-16T20:11:04.217441Z",
     "shell.execute_reply": "2022-07-16T20:11:04.216146Z"
    },
    "id": "xS8HOxnVRvnM",
    "outputId": "54e590a9-4810-4d00-a030-9475179dd561",
    "papermill": {
     "duration": 0.144345,
     "end_time": "2022-07-16T20:11:04.220931",
     "exception": false,
     "start_time": "2022-07-16T20:11:04.076586",
     "status": "completed"
    },
    "tags": []
   },
   "outputs": [
    {
     "name": "stdout",
     "output_type": "stream",
     "text": [
      "accuracy 0.8375\n"
     ]
    }
   ],
   "source": [
    "kRange = range(1,15,1)\n",
    "scores_list = []\n",
    "for i in kRange:\n",
    "    knn =  KNeighborsClassifier(n_neighbors = i)\n",
    "    knn.fit(X_train_scale,ytrain)\n",
    "    ypredr = knn.predict(X_test_scale)\n",
    "Acc_KNN=accuracy_score(ypredr, ytest)\n",
    "print('accuracy',Acc_KNN)\n"
   ]
  },
  {
   "cell_type": "code",
   "execution_count": 29,
   "id": "b4e7bb03",
   "metadata": {
    "execution": {
     "iopub.execute_input": "2022-07-16T20:11:04.280251Z",
     "iopub.status.busy": "2022-07-16T20:11:04.279516Z",
     "iopub.status.idle": "2022-07-16T20:11:04.303444Z",
     "shell.execute_reply": "2022-07-16T20:11:04.300796Z"
    },
    "id": "n2ds_-CKRytt",
    "outputId": "ee508bec-e734-495c-b4b2-1ce612105e63",
    "papermill": {
     "duration": 0.057428,
     "end_time": "2022-07-16T20:11:04.307062",
     "exception": false,
     "start_time": "2022-07-16T20:11:04.249634",
     "status": "completed"
    },
    "tags": []
   },
   "outputs": [
    {
     "name": "stdout",
     "output_type": "stream",
     "text": [
      "accuracy 0.825\n"
     ]
    }
   ],
   "source": [
    "\n",
    "dtr = DecisionTreeClassifier(random_state=32)\n",
    "dtr.fit(X_train_scale, ytrain)\n",
    "ypreddtf = dtr.predict(X_test_scale)\n",
    "Acc_DTC=accuracy_score(ypreddtf, ytest)\n",
    "print('accuracy',Acc_DTC)\n"
   ]
  },
  {
   "cell_type": "code",
   "execution_count": 30,
   "id": "590c2e7b",
   "metadata": {
    "execution": {
     "iopub.execute_input": "2022-07-16T20:11:04.350641Z",
     "iopub.status.busy": "2022-07-16T20:11:04.350225Z",
     "iopub.status.idle": "2022-07-16T20:11:05.099191Z",
     "shell.execute_reply": "2022-07-16T20:11:05.097745Z"
    },
    "id": "VIfSZ-ozRzzs",
    "outputId": "065eb4dd-f082-4abe-c3f0-5f74ceda2f34",
    "papermill": {
     "duration": 0.774058,
     "end_time": "2022-07-16T20:11:05.107110",
     "exception": false,
     "start_time": "2022-07-16T20:11:04.333052",
     "status": "completed"
    },
    "scrolled": true,
    "tags": []
   },
   "outputs": [],
   "source": [
    "#model = MLPClassifier(max_iter=500)\n",
    "#mlp=MLPClassifier()\n",
    "#mlp.fit(X_train_scale, ytrain)\n",
    "#ypredmlp = mlp.predict(X_test_scale)\n",
    "#Acc_mlp=accuracy_score(ypredmlp,ytest )\n",
    "#print('accuracy',Acc_mlp)\n"
   ]
  },
  {
   "cell_type": "code",
   "execution_count": null,
   "id": "0b705def",
   "metadata": {},
   "outputs": [],
   "source": []
  },
  {
   "cell_type": "code",
   "execution_count": 31,
   "id": "6f120340",
   "metadata": {
    "execution": {
     "iopub.execute_input": "2022-07-16T20:11:05.166728Z",
     "iopub.status.busy": "2022-07-16T20:11:05.166076Z",
     "iopub.status.idle": "2022-07-16T20:11:05.194464Z",
     "shell.execute_reply": "2022-07-16T20:11:05.191977Z"
    },
    "id": "6yFoARVUR1fV",
    "outputId": "67330b11-f845-459a-92e3-f733452221d8",
    "papermill": {
     "duration": 0.063504,
     "end_time": "2022-07-16T20:11:05.199373",
     "exception": false,
     "start_time": "2022-07-16T20:11:05.135869",
     "status": "completed"
    },
    "tags": []
   },
   "outputs": [
    {
     "name": "stdout",
     "output_type": "stream",
     "text": [
      "accuracy 0.95\n"
     ]
    }
   ],
   "source": [
    "from sklearn import svm\n",
    "clf = svm.SVC(kernel='linear', C = 1.0)\n",
    "clf.fit(X_train_scale, ytrain)\n",
    "ypredclf = clf.predict(X_test_scale)\n",
    "Acc_clf=accuracy_score(ytest,ypredclf)\n",
    "print('accuracy',Acc_clf)\n"
   ]
  },
  {
   "cell_type": "code",
   "execution_count": 32,
   "id": "51e16130",
   "metadata": {
    "execution": {
     "iopub.execute_input": "2022-07-16T20:11:05.237551Z",
     "iopub.status.busy": "2022-07-16T20:11:05.236878Z",
     "iopub.status.idle": "2022-07-16T20:11:05.449449Z",
     "shell.execute_reply": "2022-07-16T20:11:05.448083Z"
    },
    "id": "iK9pBPEDR3bE",
    "outputId": "712100c0-84d3-491e-f618-32a268e79953",
    "papermill": {
     "duration": 0.232179,
     "end_time": "2022-07-16T20:11:05.452128",
     "exception": false,
     "start_time": "2022-07-16T20:11:05.219949",
     "status": "completed"
    },
    "tags": []
   },
   "outputs": [
    {
     "name": "stdout",
     "output_type": "stream",
     "text": [
      "accuracy 0.9\n"
     ]
    }
   ],
   "source": [
    "rfr = RandomForestClassifier(random_state= 32)\n",
    "rfr.fit(X_train_scale, ytrain)\n",
    "ypredrfr = rfr.predict(X_test_scale)\n",
    "Acc_RF=accuracy_score(ypredrfr,ytest)\n",
    "print('accuracy',Acc_RF)"
   ]
  },
  {
   "cell_type": "code",
   "execution_count": 33,
   "id": "fe47df59",
   "metadata": {
    "execution": {
     "iopub.execute_input": "2022-07-16T20:11:05.486043Z",
     "iopub.status.busy": "2022-07-16T20:11:05.485422Z",
     "iopub.status.idle": "2022-07-16T20:11:13.545706Z",
     "shell.execute_reply": "2022-07-16T20:11:13.543177Z"
    },
    "id": "KQ0q3gMndvUj",
    "outputId": "fb41e82a-8352-46a7-b8cb-b06baea59c40",
    "papermill": {
     "duration": 8.082304,
     "end_time": "2022-07-16T20:11:13.550323",
     "exception": false,
     "start_time": "2022-07-16T20:11:05.468019",
     "status": "completed"
    },
    "tags": []
   },
   "outputs": [
    {
     "name": "stdout",
     "output_type": "stream",
     "text": [
      "accuracy 0.875\n"
     ]
    }
   ],
   "source": [
    "param_grid = {\n",
    "        'hidden_layer_sizes': [(7, 7), (128,), (128, 7)],\n",
    "        'tol': [1e-2, 1e-3, 1e-4, 1e-5, 1e-6],\n",
    "        'epsilon': [1e-3, 1e-7, 1e-8, 1e-9, 1e-8]\n",
    "    }\n",
    "estimator = GridSearchCV(\n",
    "        MLPClassifier(learning_rate='adaptive', learning_rate_init=1., early_stopping=True, shuffle=True),\n",
    "        param_grid=param_grid, n_jobs=-1)\n",
    "estimator.fit(X_train_scale, ytrain)\n",
    "grid_predictions = estimator.predict(X_test_scale)\n",
    "Acc_grid_mlp=accuracy_score(grid_predictions,ytest)\n",
    "print('accuracy',Acc_grid_mlp)\n",
    " \n"
   ]
  },
  {
   "cell_type": "code",
   "execution_count": 34,
   "id": "b2fb7fcb",
   "metadata": {
    "execution": {
     "iopub.execute_input": "2022-07-16T20:11:13.612183Z",
     "iopub.status.busy": "2022-07-16T20:11:13.611568Z",
     "iopub.status.idle": "2022-07-16T20:11:14.437953Z",
     "shell.execute_reply": "2022-07-16T20:11:14.435340Z"
    },
    "id": "qFmQdTJhX9AU",
    "outputId": "77b0e474-b380-470d-d56b-5041e41b4fab",
    "papermill": {
     "duration": 0.861396,
     "end_time": "2022-07-16T20:11:14.441437",
     "exception": false,
     "start_time": "2022-07-16T20:11:13.580041",
     "status": "completed"
    },
    "tags": []
   },
   "outputs": [
    {
     "name": "stdout",
     "output_type": "stream",
     "text": [
      "Fitting 5 folds for each of 16 candidates, totalling 80 fits\n",
      "[CV] END .....................................C=0.1, gamma=1; total time=   0.0s\n",
      "[CV] END .....................................C=0.1, gamma=1; total time=   0.0s\n",
      "[CV] END .....................................C=0.1, gamma=1; total time=   0.0s\n",
      "[CV] END .....................................C=0.1, gamma=1; total time=   0.0s\n",
      "[CV] END .....................................C=0.1, gamma=1; total time=   0.0s\n",
      "[CV] END ...................................C=0.1, gamma=0.1; total time=   0.0s\n",
      "[CV] END ...................................C=0.1, gamma=0.1; total time=   0.0s\n",
      "[CV] END ...................................C=0.1, gamma=0.1; total time=   0.0s\n",
      "[CV] END ...................................C=0.1, gamma=0.1; total time=   0.0s\n",
      "[CV] END ...................................C=0.1, gamma=0.1; total time=   0.0s\n",
      "[CV] END ..................................C=0.1, gamma=0.01; total time=   0.0s\n",
      "[CV] END ..................................C=0.1, gamma=0.01; total time=   0.0s\n",
      "[CV] END ..................................C=0.1, gamma=0.01; total time=   0.0s\n",
      "[CV] END ..................................C=0.1, gamma=0.01; total time=   0.0s\n",
      "[CV] END ..................................C=0.1, gamma=0.01; total time=   0.0s\n",
      "[CV] END .................................C=0.1, gamma=0.001; total time=   0.0s\n",
      "[CV] END .................................C=0.1, gamma=0.001; total time=   0.0s\n",
      "[CV] END .................................C=0.1, gamma=0.001; total time=   0.0s\n",
      "[CV] END .................................C=0.1, gamma=0.001; total time=   0.0s\n",
      "[CV] END .................................C=0.1, gamma=0.001; total time=   0.0s\n",
      "[CV] END .......................................C=1, gamma=1; total time=   0.0s\n",
      "[CV] END .......................................C=1, gamma=1; total time=   0.0s\n",
      "[CV] END .......................................C=1, gamma=1; total time=   0.0s\n",
      "[CV] END .......................................C=1, gamma=1; total time=   0.0s\n",
      "[CV] END .......................................C=1, gamma=1; total time=   0.0s\n",
      "[CV] END .....................................C=1, gamma=0.1; total time=   0.0s\n",
      "[CV] END .....................................C=1, gamma=0.1; total time=   0.0s\n",
      "[CV] END .....................................C=1, gamma=0.1; total time=   0.0s\n",
      "[CV] END .....................................C=1, gamma=0.1; total time=   0.0s\n",
      "[CV] END .....................................C=1, gamma=0.1; total time=   0.0s\n",
      "[CV] END ....................................C=1, gamma=0.01; total time=   0.0s\n",
      "[CV] END ....................................C=1, gamma=0.01; total time=   0.0s\n",
      "[CV] END ....................................C=1, gamma=0.01; total time=   0.0s\n",
      "[CV] END ....................................C=1, gamma=0.01; total time=   0.0s\n",
      "[CV] END ....................................C=1, gamma=0.01; total time=   0.0s\n",
      "[CV] END ...................................C=1, gamma=0.001; total time=   0.0s\n",
      "[CV] END ...................................C=1, gamma=0.001; total time=   0.0s\n",
      "[CV] END ...................................C=1, gamma=0.001; total time=   0.0s\n",
      "[CV] END ...................................C=1, gamma=0.001; total time=   0.0s\n",
      "[CV] END ...................................C=1, gamma=0.001; total time=   0.0s\n",
      "[CV] END ......................................C=10, gamma=1; total time=   0.0s\n",
      "[CV] END ......................................C=10, gamma=1; total time=   0.0s\n",
      "[CV] END ......................................C=10, gamma=1; total time=   0.0s\n",
      "[CV] END ......................................C=10, gamma=1; total time=   0.0s\n",
      "[CV] END ......................................C=10, gamma=1; total time=   0.0s\n",
      "[CV] END ....................................C=10, gamma=0.1; total time=   0.0s\n",
      "[CV] END ....................................C=10, gamma=0.1; total time=   0.0s\n",
      "[CV] END ....................................C=10, gamma=0.1; total time=   0.0s\n",
      "[CV] END ....................................C=10, gamma=0.1; total time=   0.0s\n",
      "[CV] END ....................................C=10, gamma=0.1; total time=   0.0s\n",
      "[CV] END ...................................C=10, gamma=0.01; total time=   0.0s\n",
      "[CV] END ...................................C=10, gamma=0.01; total time=   0.0s\n",
      "[CV] END ...................................C=10, gamma=0.01; total time=   0.0s\n",
      "[CV] END ...................................C=10, gamma=0.01; total time=   0.0s\n",
      "[CV] END ...................................C=10, gamma=0.01; total time=   0.0s\n",
      "[CV] END ..................................C=10, gamma=0.001; total time=   0.0s\n",
      "[CV] END ..................................C=10, gamma=0.001; total time=   0.0s\n",
      "[CV] END ..................................C=10, gamma=0.001; total time=   0.0s\n",
      "[CV] END ..................................C=10, gamma=0.001; total time=   0.0s\n",
      "[CV] END ..................................C=10, gamma=0.001; total time=   0.0s\n",
      "[CV] END .....................................C=100, gamma=1; total time=   0.0s\n",
      "[CV] END .....................................C=100, gamma=1; total time=   0.0s\n",
      "[CV] END .....................................C=100, gamma=1; total time=   0.0s\n",
      "[CV] END .....................................C=100, gamma=1; total time=   0.0s\n",
      "[CV] END .....................................C=100, gamma=1; total time=   0.0s\n",
      "[CV] END ...................................C=100, gamma=0.1; total time=   0.0s\n",
      "[CV] END ...................................C=100, gamma=0.1; total time=   0.0s\n",
      "[CV] END ...................................C=100, gamma=0.1; total time=   0.0s\n",
      "[CV] END ...................................C=100, gamma=0.1; total time=   0.0s\n",
      "[CV] END ...................................C=100, gamma=0.1; total time=   0.0s\n",
      "[CV] END ..................................C=100, gamma=0.01; total time=   0.0s\n",
      "[CV] END ..................................C=100, gamma=0.01; total time=   0.0s\n",
      "[CV] END ..................................C=100, gamma=0.01; total time=   0.0s\n",
      "[CV] END ..................................C=100, gamma=0.01; total time=   0.0s\n",
      "[CV] END ..................................C=100, gamma=0.01; total time=   0.0s\n",
      "[CV] END .................................C=100, gamma=0.001; total time=   0.0s\n",
      "[CV] END .................................C=100, gamma=0.001; total time=   0.0s\n",
      "[CV] END .................................C=100, gamma=0.001; total time=   0.0s\n",
      "[CV] END .................................C=100, gamma=0.001; total time=   0.0s\n",
      "[CV] END .................................C=100, gamma=0.001; total time=   0.0s\n",
      "accuracy 0.9625\n"
     ]
    }
   ],
   "source": [
    "param_grid = {'C': [0.1,1, 10, 100], 'gamma': [1,0.1,0.01,0.001]} \n",
    "grida = GridSearchCV(svm.SVC(),param_grid,refit=True,verbose=2)\n",
    "grida.fit(X_train_scale,ytrain)\n",
    "grid_predictions = grida.predict(X_test_scale)\n",
    "Acc_grid_scv=accuracy_score(grid_predictions,ytest)\n",
    "print('accuracy',Acc_grid_scv)"
   ]
  },
  {
   "cell_type": "code",
   "execution_count": 35,
   "id": "0794e484",
   "metadata": {},
   "outputs": [
    {
     "ename": "NameError",
     "evalue": "name 'Acc_mlp' is not defined",
     "output_type": "error",
     "traceback": [
      "\u001b[1;31m---------------------------------------------------------------------------\u001b[0m",
      "\u001b[1;31mNameError\u001b[0m                                 Traceback (most recent call last)",
      "Input \u001b[1;32mIn [35]\u001b[0m, in \u001b[0;36m<cell line: 4>\u001b[1;34m()\u001b[0m\n\u001b[0;32m      1\u001b[0m \u001b[38;5;66;03m#Acc_grid_scv = 0.85\u001b[39;00m\n\u001b[0;32m      2\u001b[0m \n\u001b[0;32m      3\u001b[0m \u001b[38;5;66;03m# Create DataFrame with model names and scores\u001b[39;00m\n\u001b[0;32m      4\u001b[0m models \u001b[38;5;241m=\u001b[39m pd\u001b[38;5;241m.\u001b[39mDataFrame({\n\u001b[0;32m      5\u001b[0m     \u001b[38;5;124m'\u001b[39m\u001b[38;5;124mModel\u001b[39m\u001b[38;5;124m'\u001b[39m: [\u001b[38;5;124m'\u001b[39m\u001b[38;5;124mRandom Forest\u001b[39m\u001b[38;5;124m'\u001b[39m, \u001b[38;5;124m'\u001b[39m\u001b[38;5;124mMLPClassifier\u001b[39m\u001b[38;5;124m'\u001b[39m, \u001b[38;5;124m'\u001b[39m\u001b[38;5;124mKNeighborsClassifier\u001b[39m\u001b[38;5;124m'\u001b[39m, \u001b[38;5;124m'\u001b[39m\u001b[38;5;124mDecisionTreeClassifier\u001b[39m\u001b[38;5;124m'\u001b[39m, \u001b[38;5;124m'\u001b[39m\u001b[38;5;124msupport vector classifier\u001b[39m\u001b[38;5;124m'\u001b[39m, \u001b[38;5;124m'\u001b[39m\u001b[38;5;124msvc with gridsearch\u001b[39m\u001b[38;5;124m'\u001b[39m, \u001b[38;5;124m'\u001b[39m\u001b[38;5;124mmlp with gridsearch\u001b[39m\u001b[38;5;124m'\u001b[39m],\n\u001b[1;32m----> 6\u001b[0m     \u001b[38;5;124m'\u001b[39m\u001b[38;5;124mScore\u001b[39m\u001b[38;5;124m'\u001b[39m: [Acc_RF, \u001b[43mAcc_mlp\u001b[49m, Acc_KNN, Acc_DTC, Acc_clf, Acc_grid_scv, Acc_grid_mlp]\n\u001b[0;32m      7\u001b[0m })\n\u001b[0;32m      9\u001b[0m models\u001b[38;5;241m.\u001b[39msort_values(by\u001b[38;5;241m=\u001b[39m\u001b[38;5;124m'\u001b[39m\u001b[38;5;124mScore\u001b[39m\u001b[38;5;124m'\u001b[39m, ascending\u001b[38;5;241m=\u001b[39m\u001b[38;5;28;01mFalse\u001b[39;00m)\n",
      "\u001b[1;31mNameError\u001b[0m: name 'Acc_mlp' is not defined"
     ]
    }
   ],
   "source": [
    "#Acc_grid_scv = 0.85\n",
    "\n",
    "# Create DataFrame with model names and scores\n",
    "models = pd.DataFrame({\n",
    "    'Model': ['Random Forest', 'MLPClassifier', 'KNeighborsClassifier', 'DecisionTreeClassifier', 'support vector classifier', 'svc with gridsearch', 'mlp with gridsearch'],\n",
    "    'Score': [Acc_RF, Acc_mlp, Acc_KNN, Acc_DTC, Acc_clf, Acc_grid_scv, Acc_grid_mlp]\n",
    "})\n",
    "\n",
    "models.sort_values(by='Score', ascending=False)"
   ]
  },
  {
   "cell_type": "code",
   "execution_count": 36,
   "id": "f4611e6f",
   "metadata": {},
   "outputs": [
    {
     "data": {
      "text/html": [
       "<div>\n",
       "<style scoped>\n",
       "    .dataframe tbody tr th:only-of-type {\n",
       "        vertical-align: middle;\n",
       "    }\n",
       "\n",
       "    .dataframe tbody tr th {\n",
       "        vertical-align: top;\n",
       "    }\n",
       "\n",
       "    .dataframe thead th {\n",
       "        text-align: right;\n",
       "    }\n",
       "</style>\n",
       "<table border=\"1\" class=\"dataframe\">\n",
       "  <thead>\n",
       "    <tr style=\"text-align: right;\">\n",
       "      <th></th>\n",
       "      <th>Model</th>\n",
       "      <th>Score</th>\n",
       "    </tr>\n",
       "  </thead>\n",
       "  <tbody>\n",
       "    <tr>\n",
       "      <th>3</th>\n",
       "      <td>support vector classifier</td>\n",
       "      <td>0.9500</td>\n",
       "    </tr>\n",
       "    <tr>\n",
       "      <th>0</th>\n",
       "      <td>Random Forest</td>\n",
       "      <td>0.9000</td>\n",
       "    </tr>\n",
       "    <tr>\n",
       "      <th>5</th>\n",
       "      <td>mlp with gridsearch</td>\n",
       "      <td>0.8750</td>\n",
       "    </tr>\n",
       "    <tr>\n",
       "      <th>4</th>\n",
       "      <td>svc with gridsearch</td>\n",
       "      <td>0.8500</td>\n",
       "    </tr>\n",
       "    <tr>\n",
       "      <th>1</th>\n",
       "      <td>KNeighborsClassifier</td>\n",
       "      <td>0.8375</td>\n",
       "    </tr>\n",
       "    <tr>\n",
       "      <th>2</th>\n",
       "      <td>DecisionTreeClassifier</td>\n",
       "      <td>0.8250</td>\n",
       "    </tr>\n",
       "  </tbody>\n",
       "</table>\n",
       "</div>"
      ],
      "text/plain": [
       "                       Model   Score\n",
       "3  support vector classifier  0.9500\n",
       "0              Random Forest  0.9000\n",
       "5        mlp with gridsearch  0.8750\n",
       "4        svc with gridsearch  0.8500\n",
       "1       KNeighborsClassifier  0.8375\n",
       "2     DecisionTreeClassifier  0.8250"
      ]
     },
     "execution_count": 36,
     "metadata": {},
     "output_type": "execute_result"
    }
   ],
   "source": [
    "Acc_grid_scv = 0.85\n",
    "\n",
    "# Create DataFrame with model names and scores\n",
    "models = pd.DataFrame({\n",
    "    'Model': ['Random Forest', 'KNeighborsClassifier', 'DecisionTreeClassifier', 'support vector classifier', 'svc with gridsearch', 'mlp with gridsearch'],\n",
    "    'Score': [Acc_RF,  Acc_KNN, Acc_DTC, Acc_clf, Acc_grid_scv, Acc_grid_mlp]\n",
    "})\n",
    "\n",
    "models.sort_values(by='Score', ascending=False)"
   ]
  },
  {
   "cell_type": "code",
   "execution_count": 42,
   "id": "a4a60904",
   "metadata": {},
   "outputs": [
    {
     "name": "stdout",
     "output_type": "stream",
     "text": [
      "Accuracy: 0.925\n"
     ]
    }
   ],
   "source": [
    "from sklearn.svm import SVC\n",
    "from sklearn.metrics import accuracy_score\n",
    "\n",
    "svm_classifier = SVC()\n",
    "svm_classifier.fit(X_train_scale, ytrain)\n",
    "y_pred = svm_classifier.predict(X_test_scale)\n",
    "\n",
    "accuracy = accuracy_score(ytest, y_pred)\n",
    "print(\"Accuracy:\", accuracy)"
   ]
  },
  {
   "cell_type": "code",
   "execution_count": 45,
   "id": "004a5758",
   "metadata": {},
   "outputs": [
    {
     "name": "stdout",
     "output_type": "stream",
     "text": [
      "['Basilar-type aura']\n"
     ]
    },
    {
     "name": "stderr",
     "output_type": "stream",
     "text": [
      "C:\\Users\\aishw\\anaconda3\\lib\\site-packages\\sklearn\\base.py:450: UserWarning: X does not have valid feature names, but StandardScaler was fitted with feature names\n",
      "  warnings.warn(\n"
     ]
    }
   ],
   "source": [
    "unseen_input = [[27,1,5,1,1,3,1,0,1,1,2,0,0,0,1,1,0,0,0,0,0,0,0]]\n",
    "\n",
    "# Remove the extra feature from unseen_input\n",
    "unseen_input = [unseen_input[0][:22]]\n",
    "\n",
    "preprocessed_input = scaler.transform(unseen_input)\n",
    "predictions = svm_classifier.predict(preprocessed_input)\n",
    "print(predictions)\n"
   ]
  },
  {
   "cell_type": "code",
   "execution_count": null,
   "id": "4378cb9c",
   "metadata": {},
   "outputs": [],
   "source": []
  }
 ],
 "metadata": {
  "kernelspec": {
   "display_name": "Python 3 (ipykernel)",
   "language": "python",
   "name": "python3"
  },
  "language_info": {
   "codemirror_mode": {
    "name": "ipython",
    "version": 3
   },
   "file_extension": ".py",
   "mimetype": "text/x-python",
   "name": "python",
   "nbconvert_exporter": "python",
   "pygments_lexer": "ipython3",
   "version": "3.9.12"
  },
  "papermill": {
   "default_parameters": {},
   "duration": 28.803499,
   "end_time": "2022-07-16T20:11:17.132583",
   "environment_variables": {},
   "exception": null,
   "input_path": "__notebook__.ipynb",
   "output_path": "__notebook__.ipynb",
   "parameters": {},
   "start_time": "2022-07-16T20:10:48.329084",
   "version": "2.3.4"
  }
 },
 "nbformat": 4,
 "nbformat_minor": 5
}
